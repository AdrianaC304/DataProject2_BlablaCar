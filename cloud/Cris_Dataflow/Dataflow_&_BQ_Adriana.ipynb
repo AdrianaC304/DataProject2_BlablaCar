{
 "cells": [
  {
   "cell_type": "markdown",
   "id": "ea4fc081-83a3-4829-a4f3-a7b7a2175228",
   "metadata": {
    "tags": []
   },
   "source": [
    "## ASIGNACION VIAJE (INICIO + FIN) BQ"
   ]
  },
  {
   "cell_type": "code",
   "execution_count": 28,
   "id": "09275440-3318-4ccc-aa08-5d59ff1494ca",
   "metadata": {
    "tags": []
   },
   "outputs": [],
   "source": [
    "import apache_beam as beam\n",
    "from apache_beam.options.pipeline_options import PipelineOptions, StandardOptions\n",
    "from apache_beam.transforms import CoGroupByKey\n",
    "import json\n",
    "from apache_beam.io.gcp.bigquery import WriteToBigQuery\n",
    "from apache_beam.io.gcp.internal.clients import bigquery\n",
    "\n",
    "################config################################\n",
    "\n",
    "import apache_beam as beam\n",
    "import json\n",
    "from apache_beam.io.gcp.bigquery import WriteToBigQuery\n",
    "from apache_beam.io.gcp.bigquery_tools import parse_table_schema_from_json\n",
    "\n",
    "\n",
    "options = PipelineOptions(\n",
    "    streaming=True,\n",
    "    runner='DataflowRunner',\n",
    "    experiments='enable_streaming_engine,use_beam_bq_sink'\n",
    ")\n",
    "\n",
    "# Definir suscripciones y otros detalles si es necesario\n",
    "suscripcion_coche = 'projects/woven-justice-411714/subscriptions/blablacar_car-sub'\n",
    "suscripcion_usuario = 'projects/woven-justice-411714/subscriptions/blablacar_user-sub'\n",
    "project_id = 'woven-justice-411714'\n",
    "#topic_name= 'blablacar_usuarios2'\n",
    "table_name = \"woven-justice-411714:ejemplo.asignaciones_inicio\"\n",
    "bucket_name = 'woven-justice-411714'\n",
    "\n",
    "\n",
    "#########funciones#######################################\n",
    "\n",
    "# Recibe datos\n",
    "class DecodeMessage(beam.DoFn):\n",
    "    def process(self, element):\n",
    "        output = element.decode('utf-8')\n",
    "        json_data = json.loads(output)\n",
    "        return [json_data]\n",
    "\n",
    "# Función para extraer la clave 'user_geo' de cada elemento para el inicio del viaje\n",
    "def extract_geo_user(element):\n",
    "    geo = element.get('user_geo', None)\n",
    "    return (geo, element)\n",
    "\n",
    "# Función para extraer la clave 'user_geo_fin' de cada elemento para el fin del viaje\n",
    "def extract_geo_fin(element):\n",
    "    geo = element.get('user_geo_fin', None)\n",
    "    return (geo, element)\n",
    "\n",
    "# Función para extraer la clave 'coche_geo' de cada elemento\n",
    "def extract_geo_coche(element):\n",
    "    geo = element.get('coche_geo', None)\n",
    "    return (geo, element)\n",
    "\n",
    "# Función para filtrar casos coincidentes y no coincidentes para el inicio del viaje\n",
    "class FilterCoincidentCases_inicio(beam.DoFn):\n",
    "    def process(self, element):\n",
    "        geo_key, messages = element\n",
    "        coches = messages['coches']\n",
    "        usuarios = messages['usuarios']\n",
    "\n",
    "        if coches and usuarios:\n",
    "            yield {'geo': geo_key, 'coches': coches, 'usuarios': usuarios, 'inicio_viaje': True}\n",
    "        else:\n",
    "            yield {'geo': geo_key, 'coches': coches, 'usuarios': usuarios, 'inicio_viaje': False}\n",
    "\n",
    "# Función para filtrar casos coincidentes y no coincidentes para el fin del viaje\n",
    "class FilterCoincidentCases_fin(beam.DoFn):\n",
    "    def process(self, element):\n",
    "        geo_key, messages = element\n",
    "        coches = messages['coches']\n",
    "        usuarios = messages['usuarios']\n",
    "\n",
    "        if coches and usuarios:\n",
    "            yield {'geo': geo_key, 'coches': coches, 'usuarios': usuarios, 'fin_viaje': True}\n",
    "        else:\n",
    "            yield {'geo': geo_key, 'coches': coches, 'usuarios': usuarios, 'fin_viaje': False}\n",
    "\n",
    "            \n",
    "# Nueva definición del esquema para BigQuery\n",
    "new_table_schema = bigquery.TableSchema()\n",
    "new_table_fields = [\n",
    "    bigquery.TableFieldSchema(name='geo', type='STRING', mode='NULLABLE'),\n",
    "    bigquery.TableFieldSchema(name='coches', type='RECORD', mode='REPEATED', fields=[\n",
    "        bigquery.TableFieldSchema(name='coche_id_message', type='STRING', mode='NULLABLE'),\n",
    "        bigquery.TableFieldSchema(name='coche_id', type='INTEGER', mode='NULLABLE'),\n",
    "        bigquery.TableFieldSchema(name='coche_index_msg', type='INTEGER', mode='NULLABLE'),\n",
    "        bigquery.TableFieldSchema(name='coche_geo', type='STRING', mode='NULLABLE'),\n",
    "        bigquery.TableFieldSchema(name='coche_latitud', type='FLOAT', mode='NULLABLE'),\n",
    "        bigquery.TableFieldSchema(name='coche_longitud', type='FLOAT', mode='NULLABLE'),\n",
    "        bigquery.TableFieldSchema(name='coche_datetime', type='DATETIME', mode='NULLABLE'),\n",
    "        bigquery.TableFieldSchema(name='coche_ruta', type='STRING', mode='NULLABLE')\n",
    "    ]),\n",
    "    bigquery.TableFieldSchema(name='usuarios', type='RECORD', mode='REPEATED', fields=[\n",
    "        bigquery.TableFieldSchema(name='user_id_message', type='STRING', mode='NULLABLE'),\n",
    "        bigquery.TableFieldSchema(name='user_id', type='INTEGER', mode='NULLABLE'),\n",
    "        bigquery.TableFieldSchema(name='user_datetime', type='DATETIME', mode='NULLABLE'),\n",
    "        bigquery.TableFieldSchema(name='user_geo', type='STRING', mode='NULLABLE'),\n",
    "        bigquery.TableFieldSchema(name='user_geo_fin', type='STRING', mode='NULLABLE'),\n",
    "        bigquery.TableFieldSchema(name='user_latitud_inicio', type='FLOAT', mode='NULLABLE'),\n",
    "        bigquery.TableFieldSchema(name='user_longitud_inicio', type='FLOAT', mode='NULLABLE'),\n",
    "        bigquery.TableFieldSchema(name='user_latitud_destino', type='FLOAT', mode='NULLABLE'),\n",
    "        bigquery.TableFieldSchema(name='user_longitud_destino', type='FLOAT', mode='NULLABLE'),\n",
    "    ]),\n",
    "    bigquery.TableFieldSchema(name='inicio_viaje', type='BOOLEAN', mode='NULLABLE'),\n",
    "]\n",
    "new_table_schema.fields.extend(new_table_fields)\n",
    "\n",
    "\n",
    "\n"
   ]
  },
  {
   "cell_type": "code",
   "execution_count": 29,
   "id": "20ca91ba-ea0a-4abd-9577-be8d3c4fe9f2",
   "metadata": {
    "tags": []
   },
   "outputs": [
    {
     "name": "stderr",
     "output_type": "stream",
     "text": [
      "WARNING:apache_beam.options.pipeline_options:Discarding unparseable args: ['-f', '/root/.local/share/jupyter/runtime/kernel-96101d4f-fa1a-4033-96c2-d6a1f36762c3.json']\n"
     ]
    },
    {
     "data": {
      "text/html": [
       "\n",
       "  <style>\n",
       "    div.alert {\n",
       "      white-space: pre-line;\n",
       "    }\n",
       "  </style>\n"
      ],
      "text/plain": [
       "<IPython.core.display.HTML object>"
      ]
     },
     "metadata": {},
     "output_type": "display_data"
    },
    {
     "data": {
      "text/html": [
       "\n",
       "            <link rel=\"stylesheet\" href=\"https://stackpath.bootstrapcdn.com/bootstrap/4.4.1/css/bootstrap.min.css\" integrity=\"sha384-Vkoo8x4CGsO3+Hhxv8T/Q5PaXtkKtu6ug5TOeNV6gBiFeWPGFN9MuhOf23Q9Ifjh\" crossorigin=\"anonymous\">\n",
       "            <div class=\"alert alert-info\">No cache_root detected. Defaulting to staging_location gs://woven-justice-411714/staging for cache location.</div>"
      ],
      "text/plain": [
       "<IPython.core.display.HTML object>"
      ]
     },
     "metadata": {},
     "output_type": "display_data"
    },
    {
     "ename": "AttributeError",
     "evalue": "'FieldList' object has no attribute '_FieldList__field'",
     "output_type": "error",
     "traceback": [
      "\u001b[0;31m---------------------------------------------------------------------------\u001b[0m",
      "\u001b[0;31mAttributeError\u001b[0m                            Traceback (most recent call last)",
      "Cell \u001b[0;32mIn[29], line 60\u001b[0m\n\u001b[1;32m     45\u001b[0m     joined_data_inicio \u001b[38;5;241m=\u001b[39m (\n\u001b[1;32m     46\u001b[0m         {\u001b[38;5;124m'\u001b[39m\u001b[38;5;124mcoches\u001b[39m\u001b[38;5;124m'\u001b[39m: coches_data, \u001b[38;5;124m'\u001b[39m\u001b[38;5;124musuarios\u001b[39m\u001b[38;5;124m'\u001b[39m: usuarios_data_inicio}\n\u001b[1;32m     47\u001b[0m         \u001b[38;5;241m|\u001b[39m \u001b[38;5;124m\"\u001b[39m\u001b[38;5;124mMerge_Mensajes_por_geo\u001b[39m\u001b[38;5;124m\"\u001b[39m \u001b[38;5;241m>>\u001b[39m CoGroupByKey()\n\u001b[0;32m   (...)\u001b[0m\n\u001b[1;32m     56\u001b[0m     )\n\u001b[1;32m     57\u001b[0m )\n\u001b[1;32m     59\u001b[0m     \u001b[38;5;66;03m# Realizar un CoGroupByKey en base al campo 'geo'_fin\u001b[39;00m\n\u001b[0;32m---> 60\u001b[0m     joined_data_fin \u001b[38;5;241m=\u001b[39m (\n\u001b[1;32m     61\u001b[0m         {\u001b[38;5;124m'\u001b[39m\u001b[38;5;124mcoches\u001b[39m\u001b[38;5;124m'\u001b[39m: coches_data, \u001b[38;5;124m'\u001b[39m\u001b[38;5;124musuarios\u001b[39m\u001b[38;5;124m'\u001b[39m: usuarios_data_fin}\n\u001b[1;32m     62\u001b[0m         \u001b[38;5;241m|\u001b[39m \u001b[38;5;124m\"\u001b[39m\u001b[38;5;124mMerge_Mensajes_por_geo_fin\u001b[39m\u001b[38;5;124m\"\u001b[39m \u001b[38;5;241m>>\u001b[39m CoGroupByKey()\n\u001b[1;32m     63\u001b[0m         \u001b[38;5;241m|\u001b[39m \u001b[38;5;124m\"\u001b[39m\u001b[38;5;124mFiltrar_Casos_Coincidentes_fin\u001b[39m\u001b[38;5;124m\"\u001b[39m \u001b[38;5;241m>>\u001b[39m beam\u001b[38;5;241m.\u001b[39mParDo(FilterCoincidentCases_fin())\n\u001b[1;32m     64\u001b[0m         \u001b[38;5;241m|\u001b[39m \u001b[38;5;124m\"\u001b[39m\u001b[38;5;124mFiltrar_Solo_Coincidentes_fin\u001b[39m\u001b[38;5;124m\"\u001b[39m \u001b[38;5;241m>>\u001b[39m beam\u001b[38;5;241m.\u001b[39mFilter(\u001b[38;5;28;01mlambda\u001b[39;00m element: element[\u001b[38;5;124m'\u001b[39m\u001b[38;5;124mfin_viaje\u001b[39m\u001b[38;5;124m'\u001b[39m])\n\u001b[1;32m     65\u001b[0m         \u001b[38;5;241m|\u001b[39m \u001b[38;5;124m\"\u001b[39m\u001b[38;5;124mImprimir_Resultados_fin\u001b[39m\u001b[38;5;124m\"\u001b[39m \u001b[38;5;241m>>\u001b[39m beam\u001b[38;5;241m.\u001b[39mMap(\u001b[38;5;28;01mlambda\u001b[39;00m element: \u001b[38;5;28mprint\u001b[39m(element))\n\u001b[1;32m     66\u001b[0m     )\n",
      "File \u001b[0;32m/jupyter/.kernels/apache-beam-2.51.0/packages/beam/sdks/python/apache_beam/pipeline.py:600\u001b[0m, in \u001b[0;36mPipeline.__exit__\u001b[0;34m(self, exc_type, exc_val, exc_tb)\u001b[0m\n\u001b[1;32m    598\u001b[0m \u001b[38;5;28;01mtry\u001b[39;00m:\n\u001b[1;32m    599\u001b[0m   \u001b[38;5;28;01mif\u001b[39;00m \u001b[38;5;129;01mnot\u001b[39;00m exc_type:\n\u001b[0;32m--> 600\u001b[0m     \u001b[38;5;28mself\u001b[39m\u001b[38;5;241m.\u001b[39mresult \u001b[38;5;241m=\u001b[39m \u001b[38;5;28;43mself\u001b[39;49m\u001b[38;5;241;43m.\u001b[39;49m\u001b[43mrun\u001b[49m\u001b[43m(\u001b[49m\u001b[43m)\u001b[49m\n\u001b[1;32m    601\u001b[0m     \u001b[38;5;28mself\u001b[39m\u001b[38;5;241m.\u001b[39mresult\u001b[38;5;241m.\u001b[39mwait_until_finish()\n\u001b[1;32m    602\u001b[0m \u001b[38;5;28;01mfinally\u001b[39;00m:\n",
      "File \u001b[0;32m/jupyter/.kernels/apache-beam-2.51.0/packages/beam/sdks/python/apache_beam/pipeline.py:550\u001b[0m, in \u001b[0;36mPipeline.run\u001b[0;34m(self, test_runner_api)\u001b[0m\n\u001b[1;32m    548\u001b[0m \u001b[38;5;66;03m# When possible, invoke a round trip through the runner API.\u001b[39;00m\n\u001b[1;32m    549\u001b[0m \u001b[38;5;28;01mif\u001b[39;00m test_runner_api \u001b[38;5;129;01mand\u001b[39;00m \u001b[38;5;28mself\u001b[39m\u001b[38;5;241m.\u001b[39m_verify_runner_api_compatible():\n\u001b[0;32m--> 550\u001b[0m   \u001b[38;5;28;01mreturn\u001b[39;00m \u001b[43mPipeline\u001b[49m\u001b[38;5;241;43m.\u001b[39;49m\u001b[43mfrom_runner_api\u001b[49m\u001b[43m(\u001b[49m\n\u001b[1;32m    551\u001b[0m \u001b[43m      \u001b[49m\u001b[38;5;28;43mself\u001b[39;49m\u001b[38;5;241;43m.\u001b[39;49m\u001b[43mto_runner_api\u001b[49m\u001b[43m(\u001b[49m\u001b[43muse_fake_coders\u001b[49m\u001b[38;5;241;43m=\u001b[39;49m\u001b[38;5;28;43;01mTrue\u001b[39;49;00m\u001b[43m)\u001b[49m\u001b[43m,\u001b[49m\n\u001b[1;32m    552\u001b[0m \u001b[43m      \u001b[49m\u001b[38;5;28;43mself\u001b[39;49m\u001b[38;5;241;43m.\u001b[39;49m\u001b[43mrunner\u001b[49m\u001b[43m,\u001b[49m\n\u001b[1;32m    553\u001b[0m \u001b[43m      \u001b[49m\u001b[38;5;28;43mself\u001b[39;49m\u001b[38;5;241;43m.\u001b[39;49m\u001b[43m_options\u001b[49m\u001b[43m)\u001b[49m\u001b[38;5;241;43m.\u001b[39;49m\u001b[43mrun\u001b[49m\u001b[43m(\u001b[49m\u001b[38;5;28;43;01mFalse\u001b[39;49;00m\u001b[43m)\u001b[49m\n\u001b[1;32m    555\u001b[0m \u001b[38;5;28;01mif\u001b[39;00m (\u001b[38;5;28mself\u001b[39m\u001b[38;5;241m.\u001b[39m_options\u001b[38;5;241m.\u001b[39mview_as(TypeOptions)\u001b[38;5;241m.\u001b[39mruntime_type_check \u001b[38;5;129;01mand\u001b[39;00m\n\u001b[1;32m    556\u001b[0m     \u001b[38;5;28mself\u001b[39m\u001b[38;5;241m.\u001b[39m_options\u001b[38;5;241m.\u001b[39mview_as(TypeOptions)\u001b[38;5;241m.\u001b[39mperformance_runtime_type_check):\n\u001b[1;32m    557\u001b[0m   \u001b[38;5;28;01mraise\u001b[39;00m \u001b[38;5;167;01mRuntimeError\u001b[39;00m(\n\u001b[1;32m    558\u001b[0m       \u001b[38;5;124m'\u001b[39m\u001b[38;5;124mYou cannot turn on runtime_type_check \u001b[39m\u001b[38;5;124m'\u001b[39m\n\u001b[1;32m    559\u001b[0m       \u001b[38;5;124m'\u001b[39m\u001b[38;5;124mand performance_runtime_type_check simultaneously. \u001b[39m\u001b[38;5;124m'\u001b[39m\n\u001b[1;32m    560\u001b[0m       \u001b[38;5;124m'\u001b[39m\u001b[38;5;124mPick one or the other.\u001b[39m\u001b[38;5;124m'\u001b[39m)\n",
      "File \u001b[0;32m/jupyter/.kernels/apache-beam-2.51.0/packages/beam/sdks/python/apache_beam/pipeline.py:574\u001b[0m, in \u001b[0;36mPipeline.run\u001b[0;34m(self, test_runner_api)\u001b[0m\n\u001b[1;32m    572\u001b[0m tmpdir \u001b[38;5;241m=\u001b[39m tempfile\u001b[38;5;241m.\u001b[39mmkdtemp()\n\u001b[1;32m    573\u001b[0m \u001b[38;5;28;01mtry\u001b[39;00m:\n\u001b[0;32m--> 574\u001b[0m   \u001b[43mpickler\u001b[49m\u001b[38;5;241;43m.\u001b[39;49m\u001b[43mdump_session\u001b[49m\u001b[43m(\u001b[49m\u001b[43mos\u001b[49m\u001b[38;5;241;43m.\u001b[39;49m\u001b[43mpath\u001b[49m\u001b[38;5;241;43m.\u001b[39;49m\u001b[43mjoin\u001b[49m\u001b[43m(\u001b[49m\u001b[43mtmpdir\u001b[49m\u001b[43m,\u001b[49m\u001b[43m \u001b[49m\u001b[38;5;124;43m'\u001b[39;49m\u001b[38;5;124;43mmain_session.pickle\u001b[39;49m\u001b[38;5;124;43m'\u001b[39;49m\u001b[43m)\u001b[49m\u001b[43m)\u001b[49m\n\u001b[1;32m    575\u001b[0m \u001b[38;5;28;01mfinally\u001b[39;00m:\n\u001b[1;32m    576\u001b[0m   shutil\u001b[38;5;241m.\u001b[39mrmtree(tmpdir)\n",
      "File \u001b[0;32m/jupyter/.kernels/apache-beam-2.51.0/packages/beam/sdks/python/apache_beam/internal/pickler.py:61\u001b[0m, in \u001b[0;36mdump_session\u001b[0;34m(file_path)\u001b[0m\n\u001b[1;32m     55\u001b[0m \u001b[38;5;28;01mdef\u001b[39;00m \u001b[38;5;21mdump_session\u001b[39m(file_path):\n\u001b[1;32m     56\u001b[0m \u001b[38;5;250m  \u001b[39m\u001b[38;5;124;03m\"\"\"For internal use only; no backwards-compatibility guarantees.\u001b[39;00m\n\u001b[1;32m     57\u001b[0m \n\u001b[1;32m     58\u001b[0m \u001b[38;5;124;03m  Pickle the current python session to be used in the worker.\u001b[39;00m\n\u001b[1;32m     59\u001b[0m \u001b[38;5;124;03m  \"\"\"\u001b[39;00m\n\u001b[0;32m---> 61\u001b[0m   \u001b[38;5;28;01mreturn\u001b[39;00m \u001b[43mdesired_pickle_lib\u001b[49m\u001b[38;5;241;43m.\u001b[39;49m\u001b[43mdump_session\u001b[49m\u001b[43m(\u001b[49m\u001b[43mfile_path\u001b[49m\u001b[43m)\u001b[49m\n",
      "File \u001b[0;32m/jupyter/.kernels/apache-beam-2.51.0/packages/beam/sdks/python/apache_beam/internal/dill_pickler.py:440\u001b[0m, in \u001b[0;36mdump_session\u001b[0;34m(file_path)\u001b[0m\n\u001b[1;32m    438\u001b[0m \u001b[38;5;28;01mwith\u001b[39;00m _pickle_lock:\n\u001b[1;32m    439\u001b[0m   dill\u001b[38;5;241m.\u001b[39mdump_session(file_path)\n\u001b[0;32m--> 440\u001b[0m   \u001b[43mdill\u001b[49m\u001b[38;5;241;43m.\u001b[39;49m\u001b[43mload_session\u001b[49m\u001b[43m(\u001b[49m\u001b[43mfile_path\u001b[49m\u001b[43m)\u001b[49m\n\u001b[1;32m    441\u001b[0m   \u001b[38;5;28;01mreturn\u001b[39;00m dill\u001b[38;5;241m.\u001b[39mdump_session(file_path)\n",
      "File \u001b[0;32m/jupyter/.kernels/apache-beam-2.51.0/lib/python3.8/site-packages/dill/_dill.py:368\u001b[0m, in \u001b[0;36mload_session\u001b[0;34m(filename, main, **kwds)\u001b[0m\n\u001b[1;32m    366\u001b[0m unpickler\u001b[38;5;241m.\u001b[39m_main \u001b[38;5;241m=\u001b[39m main\n\u001b[1;32m    367\u001b[0m unpickler\u001b[38;5;241m.\u001b[39m_session \u001b[38;5;241m=\u001b[39m \u001b[38;5;28;01mTrue\u001b[39;00m\n\u001b[0;32m--> 368\u001b[0m module \u001b[38;5;241m=\u001b[39m \u001b[43munpickler\u001b[49m\u001b[38;5;241;43m.\u001b[39;49m\u001b[43mload\u001b[49m\u001b[43m(\u001b[49m\u001b[43m)\u001b[49m\n\u001b[1;32m    369\u001b[0m unpickler\u001b[38;5;241m.\u001b[39m_session \u001b[38;5;241m=\u001b[39m \u001b[38;5;28;01mFalse\u001b[39;00m\n\u001b[1;32m    370\u001b[0m main\u001b[38;5;241m.\u001b[39m\u001b[38;5;18m__dict__\u001b[39m\u001b[38;5;241m.\u001b[39mupdate(module\u001b[38;5;241m.\u001b[39m\u001b[38;5;18m__dict__\u001b[39m)\n",
      "File \u001b[0;32m/jupyter/.kernels/apache-beam-2.51.0/lib/python3.8/site-packages/dill/_dill.py:472\u001b[0m, in \u001b[0;36mUnpickler.load\u001b[0;34m(self)\u001b[0m\n\u001b[1;32m    471\u001b[0m \u001b[38;5;28;01mdef\u001b[39;00m \u001b[38;5;21mload\u001b[39m(\u001b[38;5;28mself\u001b[39m): \u001b[38;5;66;03m#NOTE: if settings change, need to update attributes\u001b[39;00m\n\u001b[0;32m--> 472\u001b[0m     obj \u001b[38;5;241m=\u001b[39m \u001b[43mStockUnpickler\u001b[49m\u001b[38;5;241;43m.\u001b[39;49m\u001b[43mload\u001b[49m\u001b[43m(\u001b[49m\u001b[38;5;28;43mself\u001b[39;49m\u001b[43m)\u001b[49m\n\u001b[1;32m    473\u001b[0m     \u001b[38;5;28;01mif\u001b[39;00m \u001b[38;5;28mtype\u001b[39m(obj)\u001b[38;5;241m.\u001b[39m\u001b[38;5;18m__module__\u001b[39m \u001b[38;5;241m==\u001b[39m \u001b[38;5;28mgetattr\u001b[39m(_main_module, \u001b[38;5;124m'\u001b[39m\u001b[38;5;124m__name__\u001b[39m\u001b[38;5;124m'\u001b[39m, \u001b[38;5;124m'\u001b[39m\u001b[38;5;124m__main__\u001b[39m\u001b[38;5;124m'\u001b[39m):\n\u001b[1;32m    474\u001b[0m         \u001b[38;5;28;01mif\u001b[39;00m \u001b[38;5;129;01mnot\u001b[39;00m \u001b[38;5;28mself\u001b[39m\u001b[38;5;241m.\u001b[39m_ignore:\n\u001b[1;32m    475\u001b[0m             \u001b[38;5;66;03m# point obj class to main\u001b[39;00m\n",
      "File \u001b[0;32m/jupyter/.kernels/apache-beam-2.51.0/lib/python3.8/site-packages/apitools/base/protorpclite/messages.py:1147\u001b[0m, in \u001b[0;36mFieldList.extend\u001b[0;34m(self, sequence)\u001b[0m\n\u001b[1;32m   1145\u001b[0m \u001b[38;5;28;01mdef\u001b[39;00m \u001b[38;5;21mextend\u001b[39m(\u001b[38;5;28mself\u001b[39m, sequence):\n\u001b[1;32m   1146\u001b[0m \u001b[38;5;250m    \u001b[39m\u001b[38;5;124;03m\"\"\"Validate extension of list.\"\"\"\u001b[39;00m\n\u001b[0;32m-> 1147\u001b[0m     \u001b[38;5;28;43mself\u001b[39;49m\u001b[38;5;241;43m.\u001b[39;49m\u001b[43m__field\u001b[49m\u001b[38;5;241m.\u001b[39mvalidate(sequence)\n\u001b[1;32m   1148\u001b[0m     \u001b[38;5;28;01mreturn\u001b[39;00m \u001b[38;5;28mlist\u001b[39m\u001b[38;5;241m.\u001b[39mextend(\u001b[38;5;28mself\u001b[39m, sequence)\n",
      "\u001b[0;31mAttributeError\u001b[0m: 'FieldList' object has no attribute '_FieldList__field'"
     ]
    }
   ],
   "source": [
    "\n",
    "# Crear el pipeline\n",
    "with beam.Pipeline(options=PipelineOptions(\n",
    "        streaming=True,\n",
    "        save_main_session=True,\n",
    "        job_name = \"edem-prueba\",\n",
    "        project=project_id,\n",
    "        runner=\"DataflowRunner\",\n",
    "        #donde guarda los archivos\n",
    "        temp_location=f\"gs://{bucket_name}/tmp\",\n",
    "       staging_location=f\"gs://{bucket_name}/staging\",\n",
    "        region=\"europe-west4\"\n",
    "        )) as p:    \n",
    "    \n",
    "    # Coches\n",
    "    coches_data = (\n",
    "        p\n",
    "        | \"Coche_LeerDesdePubSub\" >> beam.io.ReadFromPubSub(subscription=suscripcion_coche)\n",
    "        | \"Coche_decodificar_msg\" >> beam.ParDo(DecodeMessage())\n",
    "        | \"Coche_Extraer_Clave_geo\" >> beam.Map(extract_geo_coche)\n",
    "        | \"Coche_ventana_5_minutos\" >> beam.WindowInto(beam.window.FixedWindows(500))\n",
    "    )\n",
    "\n",
    "    # Usuarios\n",
    "    usuarios_data = (\n",
    "        p\n",
    "        | \"Usuario_LeerDesdePubSub\" >> beam.io.ReadFromPubSub(subscription=suscripcion_usuario)\n",
    "        | \"Usuario_decodificar_msg\" >> beam.ParDo(DecodeMessage())\n",
    "        | \"Usuario_ventana_5_minutos\" >> beam.WindowInto(beam.window.FixedWindows(500))\n",
    "    )\n",
    "\n",
    "    # Derivar dos flujos distintos para inicio y fin del viaje\n",
    "    usuarios_data_inicio = (\n",
    "        usuarios_data\n",
    "        | \"Usuario_Extraer_Clave_geo_inicio\" >> beam.Map(extract_geo_user)\n",
    "        | \"Etiquetar_inicio_viaje\" >> beam.Map(lambda x: (x[0], (x[1], 'inicio')))\n",
    "    )\n",
    "\n",
    "    usuarios_data_fin = (\n",
    "        usuarios_data\n",
    "        | \"Usuario_Extraer_Clave_geo_fin\" >> beam.Map(extract_geo_fin)\n",
    "        | \"Etiquetar_fin_viaje\" >> beam.Map(lambda x: (x[0], (x[1], 'fin')))\n",
    "    )\n",
    "\n",
    "    # Realizar un CoGroupByKey en base al campo 'geo'_inicio\n",
    "    joined_data_inicio = (\n",
    "        {'coches': coches_data, 'usuarios': usuarios_data_inicio}\n",
    "        | \"Merge_Mensajes_por_geo\" >> CoGroupByKey()\n",
    "        | \"Filtrar_Casos_Coincidentes\" >> beam.ParDo(FilterCoincidentCases_inicio())\n",
    "        | \"Filtrar_Solo_Coincidentes\" >> beam.Filter(lambda element: element['inicio_viaje'])\n",
    "        | \"Imprimir_Resultados_inic\" >> beam.Map(lambda element: print(element))\n",
    "        | \" Escribir \" >> beam.io.WriteToBigQuery(\n",
    "        table= table_name,\n",
    "        schema=new_table_schema,\n",
    "        write_disposition=beam.io.BigQueryDisposition.WRITE_APPEND,\n",
    "        create_disposition=beam.io.BigQueryDisposition.CREATE_IF_NEEDED\n",
    "    )\n",
    ")\n",
    "\n",
    "    # Realizar un CoGroupByKey en base al campo 'geo'_fin\n",
    "    joined_data_fin = (\n",
    "        {'coches': coches_data, 'usuarios': usuarios_data_fin}\n",
    "        | \"Merge_Mensajes_por_geo_fin\" >> CoGroupByKey()\n",
    "        | \"Filtrar_Casos_Coincidentes_fin\" >> beam.ParDo(FilterCoincidentCases_fin())\n",
    "        | \"Filtrar_Solo_Coincidentes_fin\" >> beam.Filter(lambda element: element['fin_viaje'])\n",
    "        | \"Imprimir_Resultados_fin\" >> beam.Map(lambda element: print(element))\n",
    "    )"
   ]
  },
  {
   "cell_type": "code",
   "execution_count": null,
   "id": "ca06fb0a-6fd3-4ff8-be7b-3191afe76b42",
   "metadata": {},
   "outputs": [],
   "source": []
  }
 ],
 "metadata": {
  "environment": {
   "kernel": "apache-beam-2.51.0",
   "name": ".m116",
   "type": "gcloud",
   "uri": "gcr.io/deeplearning-platform-release/:m116"
  },
  "kernelspec": {
   "display_name": "Apache Beam 2.51.0",
   "language": "python",
   "name": "apache-beam-2.51.0"
  },
  "language_info": {
   "codemirror_mode": {
    "name": "ipython",
    "version": 3
   },
   "file_extension": ".py",
   "mimetype": "text/x-python",
   "name": "python",
   "nbconvert_exporter": "python",
   "pygments_lexer": "ipython3",
   "version": "3.8.10"
  }
 },
 "nbformat": 4,
 "nbformat_minor": 5
}
