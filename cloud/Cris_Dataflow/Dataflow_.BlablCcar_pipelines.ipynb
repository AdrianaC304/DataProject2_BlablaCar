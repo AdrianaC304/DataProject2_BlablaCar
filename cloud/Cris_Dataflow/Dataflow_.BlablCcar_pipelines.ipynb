{
 "cells": [
  {
   "cell_type": "markdown",
   "id": "982676d2-c2d4-4fee-8292-d381ac3558af",
   "metadata": {},
   "source": [
    "## ASIGNACION DE VIAJE"
   ]
  },
  {
   "cell_type": "code",
   "execution_count": null,
   "id": "59a0fc59-ea25-4d6b-8cfd-c1c19cbf4b1e",
   "metadata": {
    "tags": []
   },
   "outputs": [],
   "source": [
    "# Import Python Libraries\n",
    "import logging\n",
    "import apache_beam as beam\n",
    "from apache_beam.runners.interactive.interactive_runner import InteractiveRunner\n",
    "import apache_beam.runners.interactive.interactive_beam as ib"
   ]
  },
  {
   "cell_type": "code",
   "execution_count": null,
   "id": "7bc28994-d386-429c-91f0-daff3f9f493b",
   "metadata": {
    "tags": []
   },
   "outputs": [
    {
     "name": "stderr",
     "output_type": "stream",
     "text": [
      "WARNING:apache_beam.options.pipeline_options:Discarding unparseable args: ['-f', '/root/.local/share/jupyter/runtime/kernel-7321d5a7-1f5b-48d4-8981-5439a415ff15.json']\n"
     ]
    },
    {
     "name": "stdout",
     "output_type": "stream",
     "text": [
      "Inicio de viaje: {'geo': '39.49597-0.38838', 'coches': [{'coche_id_message': 'dc20670c-e3b0-4f5c-a50d-eb1b84f0e18a', 'coche_id': 1, 'coche_index_msg': 11, 'geo': '39.49597-0.38838', 'coche_latitud': 39.49597, 'coche_longitud': -0.38838, 'datetime': '2024-01-29T20:53:21.071263Z', 'coche_ruta': 'benicalap-alboraya.kml'}], 'usuarios': [{'user_id_message': '434e2471-9853-4bca-bc68-78596524d39c', 'user_id': 9990, 'datetime': '2024-01-29T20:52:59.792564Z', 'geo': '39.49597-0.38838', 'user_geo_fin': '39.49746-0.38488', 'user_latitud_inicio': 39.49597, 'user_longitud_inicio': -0.38838, 'user_latitud_destino': 39.49746, 'user_longitud_destino': -0.38488}], 'coincidente': True}\n"
     ]
    }
   ],
   "source": [
    "import apache_beam as beam\n",
    "from apache_beam.options.pipeline_options import PipelineOptions, StandardOptions\n",
    "from apache_beam.transforms import CoGroupByKey\n",
    "import json\n",
    "\n",
    "# Definir suscripciones y otros detalles si es necesario\n",
    "suscripcion_coche = 'projects/dataflow-1-411618/subscriptions/coches_stream-sub'\n",
    "suscripcion_usuario = 'projects/dataflow-1-411618/subscriptions/usuarios_stream-sub'\n",
    "\n",
    "# Recibe datos\n",
    "class DecodeMessage(beam.DoFn):\n",
    "    def process(self, element):\n",
    "        output = element.decode('utf-8')\n",
    "        json_data = json.loads(output)\n",
    "        return [json_data]\n",
    "\n",
    "# Función para extraer la clave 'geo' de cada elemento\n",
    "def extract_geo(element):\n",
    "    geo = element.get('geo', None)\n",
    "    return (geo, element)\n",
    "\n",
    "# Función para filtrar casos coincidentes y no coincidentes\n",
    "class FilterCoincidentCases(beam.DoFn):\n",
    "    def process(self, element):\n",
    "        geo_key, messages = element\n",
    "        coches = messages['coches']\n",
    "        usuarios = messages['usuarios']\n",
    "\n",
    "        if coches and usuarios:\n",
    "            yield {'geo': geo_key, 'coches': coches, 'usuarios': usuarios, 'coincidente': True}\n",
    "        else:\n",
    "            yield {'geo': geo_key, 'coches': coches, 'usuarios': usuarios, 'coincidente': False}\n",
    "\n",
    "# Crear el pipeline\n",
    "with beam.Pipeline(options=PipelineOptions(streaming=True)) as p:\n",
    "    # Coches\n",
    "    coches_data = (\n",
    "        p\n",
    "        | \"Coche_LeerDesdePubSub\" >> beam.io.ReadFromPubSub(subscription=suscripcion_coche)\n",
    "        | \"Coche_decodificar_msg\" >> beam.ParDo(DecodeMessage())\n",
    "        | \"Coche_Extraer_Clave_geo\" >> beam.Map(extract_geo)\n",
    "        | \"Coche_ventana_5_minutos\" >> beam.WindowInto(beam.window.FixedWindows(50))\n",
    "    )\n",
    "\n",
    "    # Usuarios\n",
    "    usuarios_data = (\n",
    "        p\n",
    "        | \"Usuario_LeerDesdePubSub\" >> beam.io.ReadFromPubSub(subscription=suscripcion_usuario)\n",
    "        | \"Usuario_decodificar_msg\" >> beam.ParDo(DecodeMessage())\n",
    "        | \"Usuario_Extraer_Clave_geo\" >> beam.Map(extract_geo)\n",
    "        | \"Usuario_ventana_5_minutos\" >> beam.WindowInto(beam.window.FixedWindows(50))\n",
    "    )\n",
    "\n",
    "    # Realizar un CoGroupByKey en base al campo 'geo'\n",
    "    joined_data = (\n",
    "        {'coches': coches_data, 'usuarios': usuarios_data}\n",
    "        | \"Merge_Mensajes_por_geo\" >> CoGroupByKey()\n",
    "        | \"Filtrar_Casos_Coincidentes\" >> beam.ParDo(FilterCoincidentCases())\n",
    "        | \"Filtrar_Solo_Coincidentes\" >> beam.Filter(lambda element: element['coincidente'])\n",
    "        | \"Imprimir_Resultados\" >> beam.Map(lambda element: print('Inicio de viaje:', element))\n",
    "    )"
   ]
  },
  {
   "cell_type": "markdown",
   "id": "b72b7802-c368-4e36-b4c0-444676989dbe",
   "metadata": {},
   "source": [
    "### ASIGNACION VIAJE + FIN"
   ]
  },
  {
   "cell_type": "code",
   "execution_count": null,
   "id": "eceecbde-1dc4-47bb-a31d-60d6f2e3ebe0",
   "metadata": {},
   "outputs": [],
   "source": [
    "import apache_beam as beam\n",
    "from apache_beam.options.pipeline_options import PipelineOptions, StandardOptions\n",
    "from apache_beam.transforms import CoGroupByKey\n",
    "import json\n",
    "\n",
    "################config################################\n",
    "\n",
    "options = PipelineOptions(\n",
    "    streaming=True,\n",
    "    runner='DataflowRunner',\n",
    "    experiments='enable_streaming_engine,use_beam_bq_sink'\n",
    ")\n",
    "\n",
    "# Definir suscripciones y otros detalles si es necesario\n",
    "suscripcion_coche = 'projects/dataflow-1-411618/subscriptions/coches_stream-sub'\n",
    "suscripcion_usuario = 'projects/dataflow-1-411618/subscriptions/usuarios_stream-sub'\n",
    "\n",
    "#########funciones#######################################\n",
    "\n",
    "# Recibe datos\n",
    "class DecodeMessage(beam.DoFn):\n",
    "    def process(self, element):\n",
    "        output = element.decode('utf-8')\n",
    "        json_data = json.loads(output)\n",
    "        return [json_data]\n",
    "\n",
    "# Función para extraer la clave 'user_geo_fin' de cada elemento\n",
    "def extract_geo_fin(element):\n",
    "    geo = element.get('user_geo_fin', None)\n",
    " #   print(geo)\n",
    "    return (geo, element)\n",
    "\n",
    "# Función para extraer la clave 'geo' de cada elemento\n",
    "def extract_geo(element):\n",
    "    geo = element.get('geo', None)\n",
    " #   print(geo)\n",
    "    return (geo, element)\n",
    "\n",
    "\n",
    "# Función para filtrar casos coincidentes y no coincidentes\n",
    "class FilterCoincidentCases(beam.DoFn):\n",
    "    def process(self, element):\n",
    "        geo_key, messages = element\n",
    "        coches = messages['coches']\n",
    "        usuarios = messages['usuarios']\n",
    "\n",
    "        if coches and usuarios:\n",
    "            yield {'geo': geo_key, 'coches': coches, 'usuarios': usuarios, 'coincidente': True}\n",
    "        else:\n",
    "            yield {'geo': geo_key, 'coches': coches, 'usuarios': usuarios, 'coincidente': False}\n",
    "\n",
    "            \n",
    "##########pipeline#################################            \n",
    "            \n",
    "# Crear el pipeline\n",
    "with beam.Pipeline(options=PipelineOptions(streaming=True, save_main_session=True)) as p:\n",
    "    # Coches\n",
    "    coches_data = (\n",
    "        p\n",
    "        | \"Coche_LeerDesdePubSub\" >> beam.io.ReadFromPubSub(subscription=suscripcion_coche)\n",
    "        | \"Coche_decodificar_msg\" >> beam.ParDo(DecodeMessage())\n",
    "        | \"Coche_Extraer_Clave_geo\" >> beam.Map(extract_geo)\n",
    "        | \"Coche_ventana_5_minutos\" >> beam.WindowInto(beam.window.FixedWindows(10))\n",
    "    )\n",
    "\n",
    "    # Usuarios_inicio\n",
    "    usuarios_data = (\n",
    "        p\n",
    "        | \"Usuario_LeerDesdePubSub\" >> beam.io.ReadFromPubSub(subscription=suscripcion_usuario)\n",
    "        | \"Usuario_decodificar_msg\" >> beam.ParDo(DecodeMessage())\n",
    "        | \"Usuario_Extraer_Clave_geo\" >> beam.Map(extract_geo)\n",
    "        | \"Usuario_ventana_5_minutos\" >> beam.WindowInto(beam.window.FixedWindows(10))\n",
    "    )\n",
    "\n",
    "    \n",
    "    # Usuarios_fin\n",
    "    usuarios_data_fin = (\n",
    "        p\n",
    "        | \"Usuario_LeerDesdePubSub_inic\" >> beam.io.ReadFromPubSub(subscription=suscripcion_usuario)\n",
    "        | \"Usuario_decodificar_msg_inic\" >> beam.ParDo(DecodeMessage())\n",
    "        | \"Usuario_Extraer_Clave_geo_inic\" >> beam.Map(extract_geo_fin)\n",
    "        | \"Usuario_ventana_5_minutos_inic\" >> beam.WindowInto(beam.window.FixedWindows(10))\n",
    "    )\n",
    "    \n",
    "    # Realizar un CoGroupByKey en base al campo 'geo'_inicio\n",
    "    joined_data_inicio = (\n",
    "        {'coches': coches_data, 'usuarios': usuarios_data}\n",
    "        | \"Merge_Mensajes_por_geo\" >> CoGroupByKey()\n",
    "        | \"Filtrar_Casos_Coincidentes\" >> beam.ParDo(FilterCoincidentCases())\n",
    "        | \"Filtrar_Solo_Coincidentes\" >> beam.Filter(lambda element: element['coincidente'])\n",
    "        | \"Imprimir_Resultados_inic\" >> beam.Map(lambda element: print('Inicio de viaje:', element))\n",
    "    )\n",
    "\n",
    "    \n",
    "    # Realizar un CoGroupByKey en base al campo 'geo'_fin\n",
    "    joined_data_fin = (\n",
    "        {'coches': coches_data, 'usuarios': usuarios_data_fin}\n",
    "        | \"Merge_Mensajes_por_geo_fin\" >> CoGroupByKey()\n",
    "        | \"Filtrar_Casos_Coincidentes_fin\" >> beam.ParDo(FilterCoincidentCases())\n",
    "        | \"Filtrar_Solo_Coincidentes_fin\" >> beam.Filter(lambda element: element['coincidente'])\n",
    "        | \"Imprimir_Resultados_fin\" >> beam.Map(lambda element: print('Fin de viaje:', element))\n",
    "    )"
   ]
  },
  {
   "cell_type": "markdown",
   "id": "7d8620b4-dcca-40d8-8a03-5dd09591f127",
   "metadata": {},
   "source": [
    "### Read PubSub - Write Bigquery"
   ]
  },
  {
   "cell_type": "code",
   "execution_count": 3,
   "id": "715e047e-4754-4d8c-916e-fbb8903e2c9b",
   "metadata": {
    "tags": []
   },
   "outputs": [
    {
     "name": "stderr",
     "output_type": "stream",
     "text": [
      "WARNING:apache_beam.options.pipeline_options:Discarding unparseable args: ['-f', '/root/.local/share/jupyter/runtime/kernel-68d4c126-484d-4ce1-b593-1bfb24e1228f.json']\n"
     ]
    },
    {
     "name": "stdout",
     "output_type": "stream",
     "text": [
      "JSON guardado en BigQuery: {'coche_id_message': None, 'coche_id': 1, 'cocher_index_msg': 1, 'cocher_geo': '39.49597-0.38838', 'cocher_latitud': 39.49597, 'coche_longitud': -0.38838, 'coche_datetime': None, 'coche_ruta': 'benicalap-alboraya.kml', 'datetime': '2024-01-28T11:33:13.026913', 'id_message': '070a14c8-4415-4370-8677-731007a33527'}\n"
     ]
    },
    {
     "name": "stderr",
     "output_type": "stream",
     "text": [
      "WARNING:apache_beam.io.gcp.bigquery:There were errors inserting to BigQuery. Will retry. Errors were [{'index': 0, 'errors': [{'reason': 'invalid', 'location': 'coche_ruta', 'debugInfo': '', 'message': 'no such field: coche_ruta.'}]}]\n",
      "WARNING:apache_beam.io.gcp.bigquery:There were errors inserting to BigQuery. Will retry. Errors were [{'index': 0, 'errors': [{'reason': 'invalid', 'location': 'coche_id_message', 'debugInfo': '', 'message': 'no such field: coche_id_message.'}]}]\n"
     ]
    },
    {
     "name": "stdout",
     "output_type": "stream",
     "text": [
      "JSON guardado en BigQuery: {'coche_id_message': None, 'coche_id': 1, 'cocher_index_msg': 2, 'cocher_geo': '39.49658-0.38742', 'cocher_latitud': 39.49658, 'coche_longitud': -0.38742, 'coche_datetime': None, 'coche_ruta': 'benicalap-alboraya.kml', 'datetime': '2024-01-28T11:33:14.031303', 'id_message': '1d831d96-8cf3-4448-a493-a6f2259b22db'}\n"
     ]
    },
    {
     "name": "stderr",
     "output_type": "stream",
     "text": [
      "WARNING:apache_beam.io.gcp.bigquery:There were errors inserting to BigQuery. Will retry. Errors were [{'index': 0, 'errors': [{'reason': 'invalid', 'location': 'coche_longitud', 'debugInfo': '', 'message': 'no such field: coche_longitud.'}]}]\n",
      "WARNING:apache_beam.io.gcp.bigquery:There were errors inserting to BigQuery. Will retry. Errors were [{'index': 0, 'errors': [{'reason': 'invalid', 'location': 'coche_id_message', 'debugInfo': '', 'message': 'no such field: coche_id_message.'}]}]\n",
      "WARNING:apache_beam.io.gcp.bigquery:There were errors inserting to BigQuery. Will retry. Errors were [{'index': 0, 'errors': [{'reason': 'invalid', 'location': 'coche_id_message', 'debugInfo': '', 'message': 'no such field: coche_id_message.'}]}]\n",
      "WARNING:apache_beam.io.gcp.bigquery:There were errors inserting to BigQuery. Will retry. Errors were [{'index': 0, 'errors': [{'reason': 'invalid', 'location': 'cocher_geo', 'debugInfo': '', 'message': 'no such field: cocher_geo.'}]}]\n",
      "WARNING:apache_beam.io.gcp.bigquery:There were errors inserting to BigQuery. Will retry. Errors were [{'index': 0, 'errors': [{'reason': 'invalid', 'location': 'coche_ruta', 'debugInfo': '', 'message': 'no such field: coche_ruta.'}]}]\n",
      "WARNING:apache_beam.io.gcp.bigquery:There were errors inserting to BigQuery. Will retry. Errors were [{'index': 0, 'errors': [{'reason': 'invalid', 'location': 'coche_longitud', 'debugInfo': '', 'message': 'no such field: coche_longitud.'}]}]\n",
      "WARNING:apache_beam.io.gcp.bigquery:There were errors inserting to BigQuery. Will retry. Errors were [{'index': 0, 'errors': [{'reason': 'invalid', 'location': 'cocher_index_msg', 'debugInfo': '', 'message': 'no such field: cocher_index_msg.'}]}]\n",
      "WARNING:apache_beam.io.gcp.bigquery:There were errors inserting to BigQuery. Will retry. Errors were [{'index': 0, 'errors': [{'reason': 'invalid', 'location': 'cocher_geo', 'debugInfo': '', 'message': 'no such field: cocher_geo.'}]}]\n",
      "WARNING:apache_beam.io.gcp.bigquery:There were errors inserting to BigQuery. Will retry. Errors were [{'index': 0, 'errors': [{'reason': 'invalid', 'location': 'cocher_index_msg', 'debugInfo': '', 'message': 'no such field: cocher_index_msg.'}]}]\n",
      "WARNING:apache_beam.io.gcp.bigquery:There were errors inserting to BigQuery. Will retry. Errors were [{'index': 0, 'errors': [{'reason': 'invalid', 'location': 'coche_datetime', 'debugInfo': '', 'message': 'no such field: coche_datetime.'}]}]\n",
      "WARNING:apache_beam.io.gcp.bigquery:There were errors inserting to BigQuery. Will retry. Errors were [{'index': 0, 'errors': [{'reason': 'invalid', 'location': 'cocher_index_msg', 'debugInfo': '', 'message': 'no such field: cocher_index_msg.'}]}]\n",
      "WARNING:apache_beam.io.gcp.bigquery:There were errors inserting to BigQuery. Will retry. Errors were [{'index': 0, 'errors': [{'reason': 'invalid', 'location': 'coche_datetime', 'debugInfo': '', 'message': 'no such field: coche_datetime.'}]}]\n",
      "WARNING:apache_beam.io.gcp.bigquery:There were errors inserting to BigQuery. Will retry. Errors were [{'index': 0, 'errors': [{'reason': 'invalid', 'location': 'coche_ruta', 'debugInfo': '', 'message': 'no such field: coche_ruta.'}]}]\n",
      "WARNING:apache_beam.io.gcp.bigquery:There were errors inserting to BigQuery. Will retry. Errors were [{'index': 0, 'errors': [{'reason': 'invalid', 'location': 'coche_longitud', 'debugInfo': '', 'message': 'no such field: coche_longitud.'}]}]\n",
      "WARNING:apache_beam.io.gcp.bigquery:There were errors inserting to BigQuery. Will retry. Errors were [{'index': 0, 'errors': [{'reason': 'invalid', 'location': 'cocher_index_msg', 'debugInfo': '', 'message': 'no such field: cocher_index_msg.'}]}]\n",
      "WARNING:apache_beam.io.gcp.bigquery:There were errors inserting to BigQuery. Will retry. Errors were [{'index': 0, 'errors': [{'reason': 'invalid', 'location': 'coche_ruta', 'debugInfo': '', 'message': 'no such field: coche_ruta.'}]}]\n",
      "WARNING:apache_beam.io.gcp.bigquery:There were errors inserting to BigQuery. Will retry. Errors were [{'index': 0, 'errors': [{'reason': 'invalid', 'location': 'cocher_latitud', 'debugInfo': '', 'message': 'no such field: cocher_latitud.'}]}]\n",
      "WARNING:apache_beam.io.gcp.bigquery:There were errors inserting to BigQuery. Will retry. Errors were [{'index': 0, 'errors': [{'reason': 'invalid', 'location': 'coche_id_message', 'debugInfo': '', 'message': 'no such field: coche_id_message.'}]}]\n",
      "WARNING:apache_beam.io.gcp.bigquery:There were errors inserting to BigQuery. Will retry. Errors were [{'index': 0, 'errors': [{'reason': 'invalid', 'location': 'cocher_geo', 'debugInfo': '', 'message': 'no such field: cocher_geo.'}]}]\n",
      "WARNING:apache_beam.io.gcp.bigquery:There were errors inserting to BigQuery. Will retry. Errors were [{'index': 0, 'errors': [{'reason': 'invalid', 'location': 'coche_longitud', 'debugInfo': '', 'message': 'no such field: coche_longitud.'}]}]\n",
      "WARNING:apache_beam.io.gcp.bigquery:There were errors inserting to BigQuery. Will retry. Errors were [{'index': 0, 'errors': [{'reason': 'invalid', 'location': 'cocher_index_msg', 'debugInfo': '', 'message': 'no such field: cocher_index_msg.'}]}]\n",
      "WARNING:apache_beam.io.gcp.bigquery:There were errors inserting to BigQuery. Will retry. Errors were [{'index': 0, 'errors': [{'reason': 'invalid', 'location': 'coche_id_message', 'debugInfo': '', 'message': 'no such field: coche_id_message.'}]}]\n",
      "WARNING:apache_beam.io.gcp.bigquery:There were errors inserting to BigQuery. Will retry. Errors were [{'index': 0, 'errors': [{'reason': 'invalid', 'location': 'coche_datetime', 'debugInfo': '', 'message': 'no such field: coche_datetime.'}]}]\n"
     ]
    },
    {
     "ename": "KeyboardInterrupt",
     "evalue": "",
     "output_type": "error",
     "traceback": [
      "\u001b[0;31m---------------------------------------------------------------------------\u001b[0m",
      "\u001b[0;31mKeyboardInterrupt\u001b[0m                         Traceback (most recent call last)",
      "Cell \u001b[0;32mIn[3], line 56\u001b[0m\n\u001b[1;32m     48\u001b[0m new_table_schema\u001b[38;5;241m.\u001b[39mfields\u001b[38;5;241m.\u001b[39mextend(new_table_fields)\n\u001b[1;32m     54\u001b[0m \u001b[38;5;28;01mwith\u001b[39;00m beam\u001b[38;5;241m.\u001b[39mPipeline(options\u001b[38;5;241m=\u001b[39mPipelineOptions(streaming\u001b[38;5;241m=\u001b[39m\u001b[38;5;28;01mTrue\u001b[39;00m)) \u001b[38;5;28;01mas\u001b[39;00m p:\n\u001b[1;32m     55\u001b[0m     \u001b[38;5;66;03m#coches:\u001b[39;00m\n\u001b[0;32m---> 56\u001b[0m     data \u001b[38;5;241m=\u001b[39m (\n\u001b[1;32m     57\u001b[0m         p\n\u001b[1;32m     58\u001b[0m         \u001b[38;5;241m|\u001b[39m \u001b[38;5;124m\"\u001b[39m\u001b[38;5;124mLeerDesdePubSub\u001b[39m\u001b[38;5;124m\"\u001b[39m \u001b[38;5;241m>>\u001b[39m beam\u001b[38;5;241m.\u001b[39mio\u001b[38;5;241m.\u001b[39mReadFromPubSub(subscription\u001b[38;5;241m=\u001b[39msuscripcion)\n\u001b[1;32m     59\u001b[0m         \u001b[38;5;241m|\u001b[39m \u001b[38;5;124m\"\u001b[39m\u001b[38;5;124mdecodificar_msg\u001b[39m\u001b[38;5;124m\"\u001b[39m \u001b[38;5;241m>>\u001b[39m beam\u001b[38;5;241m.\u001b[39mParDo(DecodeMessage())\n\u001b[1;32m     60\u001b[0m         \u001b[38;5;241m|\u001b[39m \u001b[38;5;124m\"\u001b[39m\u001b[38;5;124mescribir\u001b[39m\u001b[38;5;124m\"\u001b[39m \u001b[38;5;241m>>\u001b[39m beam\u001b[38;5;241m.\u001b[39mio\u001b[38;5;241m.\u001b[39mWriteToBigQuery(\n\u001b[1;32m     61\u001b[0m             table\u001b[38;5;241m=\u001b[39m table_name,\n\u001b[1;32m     62\u001b[0m             schema\u001b[38;5;241m=\u001b[39mnew_table_schema,\n\u001b[1;32m     63\u001b[0m             create_disposition\u001b[38;5;241m=\u001b[39mbeam\u001b[38;5;241m.\u001b[39mio\u001b[38;5;241m.\u001b[39mBigQueryDisposition\u001b[38;5;241m.\u001b[39mCREATE_NEVER,\n\u001b[1;32m     64\u001b[0m             write_disposition\u001b[38;5;241m=\u001b[39mbeam\u001b[38;5;241m.\u001b[39mio\u001b[38;5;241m.\u001b[39mBigQueryDisposition\u001b[38;5;241m.\u001b[39mWRITE_APPEND\n\u001b[1;32m     65\u001b[0m         )\n\u001b[1;32m     66\u001b[0m     )\n",
      "File \u001b[0;32m/jupyter/.kernels/apache-beam-2.51.0/packages/beam/sdks/python/apache_beam/pipeline.py:601\u001b[0m, in \u001b[0;36mPipeline.__exit__\u001b[0;34m(self, exc_type, exc_val, exc_tb)\u001b[0m\n\u001b[1;32m    599\u001b[0m   \u001b[38;5;28;01mif\u001b[39;00m \u001b[38;5;129;01mnot\u001b[39;00m exc_type:\n\u001b[1;32m    600\u001b[0m     \u001b[38;5;28mself\u001b[39m\u001b[38;5;241m.\u001b[39mresult \u001b[38;5;241m=\u001b[39m \u001b[38;5;28mself\u001b[39m\u001b[38;5;241m.\u001b[39mrun()\n\u001b[0;32m--> 601\u001b[0m     \u001b[38;5;28;43mself\u001b[39;49m\u001b[38;5;241;43m.\u001b[39;49m\u001b[43mresult\u001b[49m\u001b[38;5;241;43m.\u001b[39;49m\u001b[43mwait_until_finish\u001b[49m\u001b[43m(\u001b[49m\u001b[43m)\u001b[49m\n\u001b[1;32m    602\u001b[0m \u001b[38;5;28;01mfinally\u001b[39;00m:\n\u001b[1;32m    603\u001b[0m   \u001b[38;5;28mself\u001b[39m\u001b[38;5;241m.\u001b[39m_extra_context\u001b[38;5;241m.\u001b[39m\u001b[38;5;21m__exit__\u001b[39m(exc_type, exc_val, exc_tb)\n",
      "File \u001b[0;32m/jupyter/.kernels/apache-beam-2.51.0/packages/beam/sdks/python/apache_beam/runners/direct/direct_runner.py:585\u001b[0m, in \u001b[0;36mDirectPipelineResult.wait_until_finish\u001b[0;34m(self, duration)\u001b[0m\n\u001b[1;32m    582\u001b[0m   \u001b[38;5;28;01mraise\u001b[39;00m \u001b[38;5;167;01mNotImplementedError\u001b[39;00m(\n\u001b[1;32m    583\u001b[0m       \u001b[38;5;124m'\u001b[39m\u001b[38;5;124mDirectRunner does not support duration argument.\u001b[39m\u001b[38;5;124m'\u001b[39m)\n\u001b[1;32m    584\u001b[0m \u001b[38;5;28;01mtry\u001b[39;00m:\n\u001b[0;32m--> 585\u001b[0m   \u001b[38;5;28;43mself\u001b[39;49m\u001b[38;5;241;43m.\u001b[39;49m\u001b[43m_executor\u001b[49m\u001b[38;5;241;43m.\u001b[39;49m\u001b[43mawait_completion\u001b[49m\u001b[43m(\u001b[49m\u001b[43m)\u001b[49m\n\u001b[1;32m    586\u001b[0m   \u001b[38;5;28mself\u001b[39m\u001b[38;5;241m.\u001b[39m_state \u001b[38;5;241m=\u001b[39m PipelineState\u001b[38;5;241m.\u001b[39mDONE\n\u001b[1;32m    587\u001b[0m \u001b[38;5;28;01mexcept\u001b[39;00m:  \u001b[38;5;66;03m# pylint: disable=broad-except\u001b[39;00m\n",
      "File \u001b[0;32m/jupyter/.kernels/apache-beam-2.51.0/packages/beam/sdks/python/apache_beam/runners/direct/executor.py:432\u001b[0m, in \u001b[0;36mExecutor.await_completion\u001b[0;34m(self)\u001b[0m\n\u001b[1;32m    431\u001b[0m \u001b[38;5;28;01mdef\u001b[39;00m \u001b[38;5;21mawait_completion\u001b[39m(\u001b[38;5;28mself\u001b[39m):\n\u001b[0;32m--> 432\u001b[0m   \u001b[38;5;28;43mself\u001b[39;49m\u001b[38;5;241;43m.\u001b[39;49m\u001b[43m_executor\u001b[49m\u001b[38;5;241;43m.\u001b[39;49m\u001b[43mawait_completion\u001b[49m\u001b[43m(\u001b[49m\u001b[43m)\u001b[49m\n",
      "File \u001b[0;32m/jupyter/.kernels/apache-beam-2.51.0/packages/beam/sdks/python/apache_beam/runners/direct/executor.py:477\u001b[0m, in \u001b[0;36m_ExecutorServiceParallelExecutor.await_completion\u001b[0;34m(self)\u001b[0m\n\u001b[1;32m    476\u001b[0m \u001b[38;5;28;01mdef\u001b[39;00m \u001b[38;5;21mawait_completion\u001b[39m(\u001b[38;5;28mself\u001b[39m):\n\u001b[0;32m--> 477\u001b[0m   update \u001b[38;5;241m=\u001b[39m \u001b[38;5;28;43mself\u001b[39;49m\u001b[38;5;241;43m.\u001b[39;49m\u001b[43mvisible_updates\u001b[49m\u001b[38;5;241;43m.\u001b[39;49m\u001b[43mtake\u001b[49m\u001b[43m(\u001b[49m\u001b[43m)\u001b[49m\n\u001b[1;32m    478\u001b[0m   \u001b[38;5;28;01mtry\u001b[39;00m:\n\u001b[1;32m    479\u001b[0m     \u001b[38;5;28;01mif\u001b[39;00m update\u001b[38;5;241m.\u001b[39mexception:\n",
      "File \u001b[0;32m/jupyter/.kernels/apache-beam-2.51.0/packages/beam/sdks/python/apache_beam/runners/direct/executor.py:551\u001b[0m, in \u001b[0;36m_ExecutorServiceParallelExecutor._TypedUpdateQueue.take\u001b[0;34m(self)\u001b[0m\n\u001b[1;32m    549\u001b[0m \u001b[38;5;28;01mwhile\u001b[39;00m \u001b[38;5;28;01mTrue\u001b[39;00m:\n\u001b[1;32m    550\u001b[0m   \u001b[38;5;28;01mtry\u001b[39;00m:\n\u001b[0;32m--> 551\u001b[0m     item \u001b[38;5;241m=\u001b[39m \u001b[38;5;28;43mself\u001b[39;49m\u001b[38;5;241;43m.\u001b[39;49m\u001b[43m_queue\u001b[49m\u001b[38;5;241;43m.\u001b[39;49m\u001b[43mget\u001b[49m\u001b[43m(\u001b[49m\u001b[43mtimeout\u001b[49m\u001b[38;5;241;43m=\u001b[39;49m\u001b[38;5;241;43m1\u001b[39;49m\u001b[43m)\u001b[49m\n\u001b[1;32m    552\u001b[0m     \u001b[38;5;28mself\u001b[39m\u001b[38;5;241m.\u001b[39m_queue\u001b[38;5;241m.\u001b[39mtask_done()\n\u001b[1;32m    553\u001b[0m     \u001b[38;5;28;01mreturn\u001b[39;00m item\n",
      "File \u001b[0;32m/usr/lib/python3.8/queue.py:179\u001b[0m, in \u001b[0;36mQueue.get\u001b[0;34m(self, block, timeout)\u001b[0m\n\u001b[1;32m    177\u001b[0m         \u001b[38;5;28;01mif\u001b[39;00m remaining \u001b[38;5;241m<\u001b[39m\u001b[38;5;241m=\u001b[39m \u001b[38;5;241m0.0\u001b[39m:\n\u001b[1;32m    178\u001b[0m             \u001b[38;5;28;01mraise\u001b[39;00m Empty\n\u001b[0;32m--> 179\u001b[0m         \u001b[38;5;28;43mself\u001b[39;49m\u001b[38;5;241;43m.\u001b[39;49m\u001b[43mnot_empty\u001b[49m\u001b[38;5;241;43m.\u001b[39;49m\u001b[43mwait\u001b[49m\u001b[43m(\u001b[49m\u001b[43mremaining\u001b[49m\u001b[43m)\u001b[49m\n\u001b[1;32m    180\u001b[0m item \u001b[38;5;241m=\u001b[39m \u001b[38;5;28mself\u001b[39m\u001b[38;5;241m.\u001b[39m_get()\n\u001b[1;32m    181\u001b[0m \u001b[38;5;28mself\u001b[39m\u001b[38;5;241m.\u001b[39mnot_full\u001b[38;5;241m.\u001b[39mnotify()\n",
      "File \u001b[0;32m/usr/lib/python3.8/threading.py:306\u001b[0m, in \u001b[0;36mCondition.wait\u001b[0;34m(self, timeout)\u001b[0m\n\u001b[1;32m    304\u001b[0m \u001b[38;5;28;01melse\u001b[39;00m:\n\u001b[1;32m    305\u001b[0m     \u001b[38;5;28;01mif\u001b[39;00m timeout \u001b[38;5;241m>\u001b[39m \u001b[38;5;241m0\u001b[39m:\n\u001b[0;32m--> 306\u001b[0m         gotit \u001b[38;5;241m=\u001b[39m \u001b[43mwaiter\u001b[49m\u001b[38;5;241;43m.\u001b[39;49m\u001b[43macquire\u001b[49m\u001b[43m(\u001b[49m\u001b[38;5;28;43;01mTrue\u001b[39;49;00m\u001b[43m,\u001b[49m\u001b[43m \u001b[49m\u001b[43mtimeout\u001b[49m\u001b[43m)\u001b[49m\n\u001b[1;32m    307\u001b[0m     \u001b[38;5;28;01melse\u001b[39;00m:\n\u001b[1;32m    308\u001b[0m         gotit \u001b[38;5;241m=\u001b[39m waiter\u001b[38;5;241m.\u001b[39macquire(\u001b[38;5;28;01mFalse\u001b[39;00m)\n",
      "\u001b[0;31mKeyboardInterrupt\u001b[0m: "
     ]
    }
   ],
   "source": [
    "\n",
    "################################ Script para escribir en Big Query la información de los coches ####################################\n",
    "\n",
    "import apache_beam as beam\n",
    "from apache_beam.options.pipeline_options import PipelineOptions\n",
    "from apache_beam.io.gcp.bigquery import WriteToBigQuery\n",
    "from apache_beam.io.gcp.internal.clients import bigquery\n",
    "import json\n",
    "from datetime import datetime\n",
    "\n",
    "#################################################### Cris ######################################################\n",
    "project_id = 'dataflow-1-411618'\n",
    "topic_name= 'clase_test'\n",
    "table_name = 'dataflow-1-411618:blablacar.coches'\n",
    "suscripcion = 'projects/dataflow-1-411618/subscriptions/coches_stream-sub'\n",
    "################################################################################################################\n",
    "\n",
    "\n",
    "\n",
    "# Recibe datos\n",
    "def decode_message(msg):\n",
    "    # Lógica para decodificar el mensaje y cargarlo como JSON\n",
    "    output = msg.decode('utf-8')\n",
    "    json_data = json.loads(output)\n",
    "    logging.info(\"New message in PubSub: %s\", json_data)\n",
    "    return json_data\n",
    "\n",
    "# Obtiene la hora actual en formato UTC\n",
    "current_time_utc = datetime.utcnow().strftime('%Y-%m-%dT%H:%M:%S.%f')[:-3] + 'Z'\n",
    "\n",
    "class DecodeMessage(beam.DoFn):\n",
    "    def process(self, element):\n",
    "        output = element.decode('utf-8')\n",
    "        json_data = json.loads(output)\n",
    "        print(f\"JSON guardado en BigQuery: {json_data}\")\n",
    "        return [json_data]\n",
    "\n",
    "# Nueva definición del esquema para BigQuery\n",
    "new_table_schema = bigquery.TableSchema()\n",
    "new_table_fields = [\n",
    "    bigquery.TableFieldSchema(name='id_message', type='STRING', mode='NULLABLE'),\n",
    "    bigquery.TableFieldSchema(name='coche_id', type='INT', mode='NULLABLE'),\n",
    "    bigquery.TableFieldSchema(name='index_msg', type='STRING', mode='NULLABLE'),\n",
    "    bigquery.TableFieldSchema(name='latitud', type='FLOAT', mode='NULLABLE'),\n",
    "    bigquery.TableFieldSchema(name='longitud', type='FLOAT', mode='NULLABLE'),\n",
    "    bigquery.TableFieldSchema(name='datetime', type='DATETIME', mode='NULLABLE'),\n",
    "    bigquery.TableFieldSchema(name='ruta', type='STRING', mode='NULLABLE')\n",
    "]\n",
    "new_table_schema.fields.extend(new_table_fields)\n",
    "\n",
    "\n",
    "\n",
    "\n",
    "\n",
    "with beam.Pipeline(options=PipelineOptions(streaming=True)) as p:\n",
    "    #coches:\n",
    "    data = (\n",
    "        p\n",
    "        | \"LeerDesdePubSub\" >> beam.io.ReadFromPubSub(subscription=suscripcion)\n",
    "        | \"decodificar_msg\" >> beam.ParDo(DecodeMessage())\n",
    "        | \"escribir\" >> beam.io.WriteToBigQuery(\n",
    "            table= table_name,\n",
    "            schema=new_table_schema,\n",
    "            create_disposition=beam.io.BigQueryDisposition.CREATE_NEVER,\n",
    "            write_disposition=beam.io.BigQueryDisposition.WRITE_APPEND\n",
    "        )\n",
    "    )\n",
    "\n"
   ]
  },
  {
   "cell_type": "code",
   "execution_count": null,
   "id": "1c99390f-8099-4c35-be40-dc07698d1598",
   "metadata": {},
   "outputs": [],
   "source": []
  },
  {
   "cell_type": "code",
   "execution_count": null,
   "id": "1d91bb0f-4be9-4812-bad1-34464d23ad9c",
   "metadata": {
    "tags": []
   },
   "outputs": [],
   "source": []
  },
  {
   "cell_type": "code",
   "execution_count": null,
   "id": "da4a8f31-eb70-4478-aff7-995ce57469a8",
   "metadata": {},
   "outputs": [],
   "source": []
  },
  {
   "cell_type": "code",
   "execution_count": null,
   "id": "504f0d1a-66f9-4567-8867-7058362d5ad0",
   "metadata": {
    "tags": []
   },
   "outputs": [],
   "source": []
  },
  {
   "cell_type": "code",
   "execution_count": null,
   "id": "d982d207-716b-4241-ac78-e6e383844d29",
   "metadata": {
    "tags": []
   },
   "outputs": [],
   "source": []
  },
  {
   "cell_type": "code",
   "execution_count": null,
   "id": "d4d8f751-dece-4667-84cf-75c7b0827327",
   "metadata": {},
   "outputs": [],
   "source": []
  }
 ],
 "metadata": {
  "environment": {
   "kernel": "apache-beam-2.51.0",
   "name": ".m116",
   "type": "gcloud",
   "uri": "gcr.io/deeplearning-platform-release/:m116"
  },
  "kernelspec": {
   "display_name": "Apache Beam 2.51.0 (Local)",
   "language": "python",
   "name": "apache-beam-2.51.0"
  },
  "language_info": {
   "codemirror_mode": {
    "name": "ipython",
    "version": 3
   },
   "file_extension": ".py",
   "mimetype": "text/x-python",
   "name": "python",
   "nbconvert_exporter": "python",
   "pygments_lexer": "ipython3",
   "version": "3.8.10"
  }
 },
 "nbformat": 4,
 "nbformat_minor": 5
}
